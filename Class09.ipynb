{
  "nbformat": 4,
  "nbformat_minor": 0,
  "metadata": {
    "colab": {
      "provenance": [],
      "authorship_tag": "ABX9TyOnu1xvVnuysi4EiBTxe4WM",
      "include_colab_link": true
    },
    "kernelspec": {
      "name": "python3",
      "display_name": "Python 3"
    },
    "language_info": {
      "name": "python"
    }
  },
  "cells": [
    {
      "cell_type": "markdown",
      "metadata": {
        "id": "view-in-github",
        "colab_type": "text"
      },
      "source": [
        "<a href=\"https://colab.research.google.com/github/kamranahmed71/learning-python-panaversity-batch-76/blob/main/Class09.ipynb\" target=\"_parent\"><img src=\"https://colab.research.google.com/assets/colab-badge.svg\" alt=\"Open In Colab\"/></a>"
      ]
    },
    {
      "cell_type": "code",
      "execution_count": 1,
      "metadata": {
        "colab": {
          "base_uri": "https://localhost:8080/"
        },
        "id": "R3RIeXXZoyQF",
        "outputId": "2524bbaa-9e3e-44f1-d93b-779a2018f7b9"
      },
      "outputs": [
        {
          "output_type": "stream",
          "name": "stdout",
          "text": [
            "Hello World 1\n",
            "Vslue is in correct\n",
            "Hello World 2\n"
          ]
        }
      ],
      "source": [
        "# try / except  (Error Handling)\n",
        "\n",
        "print(\"Hello World 1\")\n",
        "\n",
        "try:\n",
        "  print(10/0)\n",
        "except:\n",
        "  print(\"Value is in correct\")\n",
        "\n",
        "print(\"Hello World 2\")\n"
      ]
    },
    {
      "cell_type": "code",
      "source": [
        "print(\"Hello World 1\")\n",
        "\n",
        "try:\n",
        "  print(10/0)\n",
        "except Exception as err:\n",
        "  print(err)\n",
        "\n",
        "print(\"Hello World 2\")\n"
      ],
      "metadata": {
        "colab": {
          "base_uri": "https://localhost:8080/"
        },
        "id": "MJAi0bQh63gy",
        "outputId": "b4825d95-ae51-42a7-e4f4-9287112318f3"
      },
      "execution_count": 2,
      "outputs": [
        {
          "output_type": "stream",
          "name": "stdout",
          "text": [
            "Hello World 1\n",
            "division by zero\n",
            "Hello World 2\n"
          ]
        }
      ]
    },
    {
      "cell_type": "code",
      "source": [
        "try:\n",
        "  num1 = int(input(\"Pleae Enter Number \"))\n",
        "  result = 10 /num1\n",
        "except ZeroDivisionError:\n",
        "  print(\"Zero Division Error is defined\")\n",
        "  num1 = int(input(\"Pleae Enter correct number \"))\n",
        "  result = 10 /num1\n",
        "  print(result)\n",
        "except ValueError:\n",
        "  print(\"Value error is occured\")\n",
        "except Exception as err:\n",
        "  print(err)"
      ],
      "metadata": {
        "colab": {
          "base_uri": "https://localhost:8080/"
        },
        "id": "Ir4Tlv8j7fge",
        "outputId": "96214863-dbb0-42cc-a5c3-e7496cbbf5ed"
      },
      "execution_count": 8,
      "outputs": [
        {
          "output_type": "stream",
          "name": "stdout",
          "text": [
            "Pleae Enter Number 0\n",
            "Zero Division Error is defined\n",
            "Pleae Enter correct number 5\n",
            "2.0\n"
          ]
        }
      ]
    },
    {
      "cell_type": "code",
      "source": [
        "\n",
        "def calculate(op: str):\n",
        "\n",
        "  try:\n",
        "    num1 = int(input(\"Please Enter First Number \"))\n",
        "    num2 = int(input(\"Please Enter Second Number \"))\n",
        "\n",
        "    if op == '+':\n",
        "      return num1 + num2\n",
        "    elif op == '-':\n",
        "      return num1 - num2\n",
        "    elif op == '*':\n",
        "      return num1 * num2\n",
        "    elif op == '/':\n",
        "       return num1 / num2\n",
        "    else:\n",
        "        raise Exception(\"Error: Invalid operator\")\n",
        "\n",
        "  # except ZeroDivisionError:\n",
        "  #   print(\"Error: Division by Zero\")\n",
        "  except ZeroDivisionError as err:\n",
        "    print(err)\n",
        "  except ValueError:\n",
        "      print(\"Invalid Number\")\n",
        "  # except:\n",
        "  #   print(\"Something went wrong\")\n",
        "  except Exception as err:\n",
        "    print(err)\n",
        "\n",
        "  else:   # this else for try and except it runs when try runs and execute successfully\n",
        "    print(\"No errors\")\n",
        "\n",
        "  finally:      # it will run definitely all time\n",
        "    print(\"Thank you for using Calculator\")\n",
        "\n",
        "\n",
        "# calculate(\"**\")\n",
        "calculate(\"/\")\n",
        "\n"
      ],
      "metadata": {
        "colab": {
          "base_uri": "https://localhost:8080/"
        },
        "id": "87YGH8gy-VrX",
        "outputId": "47f01bff-9bb3-48a0-dbf8-a32d0c165eca"
      },
      "execution_count": 38,
      "outputs": [
        {
          "output_type": "stream",
          "name": "stdout",
          "text": [
            "Please Enter First Number 10\n",
            "Please Enter Second Number 2\n",
            "Thank you for using Calculator\n"
          ]
        },
        {
          "output_type": "execute_result",
          "data": {
            "text/plain": [
              "5.0"
            ]
          },
          "metadata": {},
          "execution_count": 38
        }
      ]
    },
    {
      "cell_type": "code",
      "source": [
        "# Modules\n",
        "\n",
        "# Please see Folder Modules files are created in Visual Studio"
      ],
      "metadata": {
        "id": "ahyCg0nWQGEc"
      },
      "execution_count": null,
      "outputs": []
    },
    {
      "cell_type": "code",
      "source": [
        "# File Handling\n",
        "\n",
        "# Please see Folder Modules files are created in Visual Studio"
      ],
      "metadata": {
        "id": "eVDdEbGVa_mX"
      },
      "execution_count": null,
      "outputs": []
    }
  ]
}