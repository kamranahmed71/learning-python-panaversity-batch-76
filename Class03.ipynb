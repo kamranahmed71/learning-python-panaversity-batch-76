{
  "nbformat": 4,
  "nbformat_minor": 0,
  "metadata": {
    "colab": {
      "provenance": [],
      "authorship_tag": "ABX9TyPrnzr6zKeuTfaNWKURti3e",
      "include_colab_link": true
    },
    "kernelspec": {
      "name": "python3",
      "display_name": "Python 3"
    },
    "language_info": {
      "name": "python"
    }
  },
  "cells": [
    {
      "cell_type": "markdown",
      "metadata": {
        "id": "view-in-github",
        "colab_type": "text"
      },
      "source": [
        "<a href=\"https://colab.research.google.com/github/kamranahmed71/learning-python-panaversity-batch-76/blob/main/Class03.ipynb\" target=\"_parent\"><img src=\"https://colab.research.google.com/assets/colab-badge.svg\" alt=\"Open In Colab\"/></a>"
      ]
    },
    {
      "cell_type": "code",
      "execution_count": null,
      "metadata": {
        "colab": {
          "base_uri": "https://localhost:8080/"
        },
        "id": "yz88ZwMDgDNe",
        "outputId": "146b397f-be59-4c08-c418-02b1066066cb"
      },
      "outputs": [
        {
          "output_type": "execute_result",
          "data": {
            "text/plain": [
              "133135726605200"
            ]
          },
          "metadata": {},
          "execution_count": 1
        }
      ],
      "source": [
        "fav_game = \"Cricket\"\n",
        "fav_food = \"Biryani\"\n",
        "\n",
        "id(fav_game)   # find location address in memory"
      ]
    },
    {
      "cell_type": "code",
      "source": [
        "# if condition:\n",
        "#   statement\n",
        "\n",
        "if True:\n",
        "  print(\"School jana he\")"
      ],
      "metadata": {
        "colab": {
          "base_uri": "https://localhost:8080/"
        },
        "id": "HavrvXiNol7s",
        "outputId": "309f7bcb-8285-41da-ba6e-fcd16cdb070b"
      },
      "execution_count": null,
      "outputs": [
        {
          "output_type": "stream",
          "name": "stdout",
          "text": [
            "School jana he\n"
          ]
        }
      ]
    },
    {
      "cell_type": "code",
      "source": [
        "if False:\n",
        "  print(\"School jana he\")"
      ],
      "metadata": {
        "id": "z_9az5woqJqK"
      },
      "execution_count": null,
      "outputs": []
    },
    {
      "cell_type": "code",
      "source": [
        "isRaining = False\n",
        "\n",
        "if isRaining:\n",
        "  print(\"school nahi jana he\")\n",
        "else:\n",
        "  print(\"school jana he\")\n"
      ],
      "metadata": {
        "colab": {
          "base_uri": "https://localhost:8080/"
        },
        "id": "Tq6dMTsoqVMJ",
        "outputId": "95539e7c-46ae-49a2-9613-15da5aaf1dc0"
      },
      "execution_count": null,
      "outputs": [
        {
          "output_type": "stream",
          "name": "stdout",
          "text": [
            "school jana he\n"
          ]
        }
      ]
    },
    {
      "cell_type": "code",
      "source": [
        "age = 25\n",
        "\n",
        "print(age == 18)\n",
        "print(age < 18)\n",
        "\n",
        "if age >= 18:\n",
        "  print(\"you can vote\")\n",
        "else:\n",
        "  print(\"you are not entitled to cast vote\")\n",
        "\n",
        "\n"
      ],
      "metadata": {
        "id": "s2-hbtZjrT81",
        "colab": {
          "base_uri": "https://localhost:8080/"
        },
        "outputId": "a74587f4-2fc8-49de-c6bf-1de616b7978f"
      },
      "execution_count": 12,
      "outputs": [
        {
          "output_type": "stream",
          "name": "stdout",
          "text": [
            "False\n",
            "False\n",
            "you can vote\n"
          ]
        }
      ]
    },
    {
      "cell_type": "code",
      "source": [
        "percentage = int(input(\"Please Enter Percentage% \"))\n",
        "\n",
        "if percentage >= 80 and percentage <= 100:\n",
        "  print(\"You Got A1 Grade\")\n",
        "elif percentage >= 70 and percentage < 80:\n",
        "  print(\"You Got A Grade\")\n",
        "elif percentage >= 60 and percentage < 70:\n",
        "  print(\"You Got B Grade\")\n",
        "elif percentage > 50 and percentage < 60:\n",
        "  print(\"You Got C Grade\")\n",
        "else:\n",
        "  print(\"You are Failed!\")\n"
      ],
      "metadata": {
        "colab": {
          "base_uri": "https://localhost:8080/"
        },
        "id": "vfXs8JmcvIo4",
        "outputId": "1f434869-fa7a-4fa1-9090-ed157aec42c1"
      },
      "execution_count": 24,
      "outputs": [
        {
          "output_type": "stream",
          "name": "stdout",
          "text": [
            "Please Enter Percentage% 65\n",
            "You Got B Grade\n"
          ]
        }
      ]
    }
  ]
}