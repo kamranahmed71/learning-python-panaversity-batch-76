{
  "nbformat": 4,
  "nbformat_minor": 0,
  "metadata": {
    "colab": {
      "provenance": [],
      "authorship_tag": "ABX9TyNvAN1QbQhhrDD7KGcTFzBb",
      "include_colab_link": true
    },
    "kernelspec": {
      "name": "python3",
      "display_name": "Python 3"
    },
    "language_info": {
      "name": "python"
    }
  },
  "cells": [
    {
      "cell_type": "markdown",
      "metadata": {
        "id": "view-in-github",
        "colab_type": "text"
      },
      "source": [
        "<a href=\"https://colab.research.google.com/github/kamranahmed71/learning-python-panaversity-batch-76/blob/main/Assignment02_Calculator.ipynb\" target=\"_parent\"><img src=\"https://colab.research.google.com/assets/colab-badge.svg\" alt=\"Open In Colab\"/></a>"
      ]
    },
    {
      "cell_type": "code",
      "execution_count": 2,
      "metadata": {
        "colab": {
          "base_uri": "https://localhost:8080/"
        },
        "id": "NXLQ0PVj5dse",
        "outputId": "53e2674c-7952-44a0-c0aa-e0cbb119801d"
      },
      "outputs": [
        {
          "output_type": "stream",
          "name": "stdout",
          "text": [
            "15\n",
            "5\n",
            "50\n",
            "2.0\n",
            "Error: Division by zero\n",
            "Error: Invalid operator\n"
          ]
        }
      ],
      "source": [
        "def calculator(num1, num2, operator):\n",
        "    if operator == '+':\n",
        "        return num1 + num2\n",
        "    elif operator == '-':\n",
        "        return num1 - num2\n",
        "    elif operator == '*':\n",
        "        return num1 * num2\n",
        "    elif operator == '/':\n",
        "        if num2 != 0:\n",
        "            return num1 / num2\n",
        "        else:\n",
        "            return \"Error: Division by zero\"\n",
        "    else:\n",
        "        return \"Error: Invalid operator\"\n",
        "\n",
        "\n",
        "\n",
        "print(calculator(10, 5, '+'))  # 15\n",
        "print(calculator(10, 5, '-'))  # 5\n",
        "print(calculator(10, 5, '*'))  # 50\n",
        "print(calculator(10, 5, '/'))  # 2.0\n",
        "print(calculator(10, 0, '/'))  # Error: Division by zero\n",
        "print(calculator(10, 0, '('))  # Error: Invalid operator\n"
      ]
    }
  ]
}