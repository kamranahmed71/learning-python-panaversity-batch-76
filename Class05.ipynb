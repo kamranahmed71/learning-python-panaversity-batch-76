{
  "nbformat": 4,
  "nbformat_minor": 0,
  "metadata": {
    "colab": {
      "provenance": [],
      "authorship_tag": "ABX9TyNY+72AbakRlPnMSU7fJfzv",
      "include_colab_link": true
    },
    "kernelspec": {
      "name": "python3",
      "display_name": "Python 3"
    },
    "language_info": {
      "name": "python"
    }
  },
  "cells": [
    {
      "cell_type": "markdown",
      "metadata": {
        "id": "view-in-github",
        "colab_type": "text"
      },
      "source": [
        "<a href=\"https://colab.research.google.com/github/kamranahmed71/learning-python-panaversity-batch-76/blob/main/Class05.ipynb\" target=\"_parent\"><img src=\"https://colab.research.google.com/assets/colab-badge.svg\" alt=\"Open In Colab\"/></a>"
      ]
    },
    {
      "cell_type": "code",
      "source": [
        "# Functions\n",
        "\n",
        "def greet():\n",
        "  print(\"Hello World\")\n",
        "  print(\"Open Door!\")\n",
        "\n",
        "greet()"
      ],
      "metadata": {
        "colab": {
          "base_uri": "https://localhost:8080/"
        },
        "id": "mNNY_TCwk_qd",
        "outputId": "e117af1e-791e-419b-f4b1-14e5c6f20549"
      },
      "execution_count": 1,
      "outputs": [
        {
          "output_type": "stream",
          "name": "stdout",
          "text": [
            "Hello World\n",
            "Open Door!\n"
          ]
        }
      ]
    },
    {
      "cell_type": "code",
      "source": [
        "def sum():\n",
        "  print(2 + 2)\n",
        "\n",
        "sum()\n",
        "sum()\n"
      ],
      "metadata": {
        "colab": {
          "base_uri": "https://localhost:8080/"
        },
        "id": "rWq4DEg7wqKk",
        "outputId": "2afa4d3e-b55f-490f-fc94-7d76ed10285e"
      },
      "execution_count": 2,
      "outputs": [
        {
          "output_type": "stream",
          "name": "stdout",
          "text": [
            "4\n",
            "4\n"
          ]
        }
      ]
    },
    {
      "cell_type": "code",
      "source": [
        "def table(num1, num2):     # parameters num1, num2\n",
        "  print(num1 + num2)\n",
        "\n",
        "table(100, 200)            # positional arguments 100, 200\n",
        "table(10, 20)              # arguments\n",
        "table(num1=100, num2=200)  # keyword arguments"
      ],
      "metadata": {
        "colab": {
          "base_uri": "https://localhost:8080/"
        },
        "id": "nWcIA2gDxWNs",
        "outputId": "a6e6f10f-fff5-4304-f349-a493c0b588cb"
      },
      "execution_count": 11,
      "outputs": [
        {
          "output_type": "stream",
          "name": "stdout",
          "text": [
            "300\n",
            "30\n",
            "300\n"
          ]
        }
      ]
    },
    {
      "cell_type": "code",
      "source": [
        "def catch(obj):\n",
        "  print(f\"Catched! {obj}\")\n",
        "\n",
        "catch('ball')"
      ],
      "metadata": {
        "colab": {
          "base_uri": "https://localhost:8080/"
        },
        "id": "2kam2Fg018Pu",
        "outputId": "50c6a0a3-f129-4670-dc36-cfc08b74ea3e"
      },
      "execution_count": 12,
      "outputs": [
        {
          "output_type": "stream",
          "name": "stdout",
          "text": [
            "Catched! ball\n"
          ]
        }
      ]
    },
    {
      "cell_type": "code",
      "source": [
        "def catch(obj):\n",
        "  return f\"Catched! {obj}\"\n",
        "\n",
        "result = catch('ball')\n",
        "print(result)\n"
      ],
      "metadata": {
        "colab": {
          "base_uri": "https://localhost:8080/"
        },
        "id": "AHK0umpD4Jdt",
        "outputId": "34e25dcd-0426-4ace-9d80-f956f51b9674"
      },
      "execution_count": 13,
      "outputs": [
        {
          "output_type": "stream",
          "name": "stdout",
          "text": [
            "Catched! ball\n"
          ]
        }
      ]
    },
    {
      "cell_type": "code",
      "source": [
        "def catch(obj):\n",
        "  print(f\"Catched! {obj}\")\n",
        "  # return f\"Catched! {obj}\"\n",
        "\n",
        "result = catch('ball')\n",
        "print(result)"
      ],
      "metadata": {
        "colab": {
          "base_uri": "https://localhost:8080/"
        },
        "id": "cS2oLPOn5ta0",
        "outputId": "5033e97b-1856-40b0-f213-f155d35e0f05"
      },
      "execution_count": 14,
      "outputs": [
        {
          "output_type": "stream",
          "name": "stdout",
          "text": [
            "Catched! ball\n",
            "None\n"
          ]
        }
      ]
    },
    {
      "cell_type": "code",
      "source": [
        "def calculator(num1, num2, operation):\n",
        ""
      ],
      "metadata": {
        "id": "Yu8QAw5J6UAS"
      },
      "execution_count": null,
      "outputs": []
    },
    {
      "cell_type": "code",
      "source": [
        "def catch(obj = \"Ball\"):     # parameter with default arguments\n",
        "  return f\"Catched! {obj}\"\n",
        "\n",
        "result = catch()\n",
        "print(result)\n"
      ],
      "metadata": {
        "colab": {
          "base_uri": "https://localhost:8080/"
        },
        "id": "PxT4euZx_kdD",
        "outputId": "c5d3849a-1f92-4c62-81ed-bb74caa4b226"
      },
      "execution_count": 15,
      "outputs": [
        {
          "output_type": "stream",
          "name": "stdout",
          "text": [
            "Catched! Ball\n"
          ]
        }
      ]
    },
    {
      "cell_type": "code",
      "source": [
        "def catch(obj = \"Ball\"):\n",
        "  return f\"Catched! {obj}\"\n",
        "\n",
        "result = catch(\"Laptop\")\n",
        "print(result)"
      ],
      "metadata": {
        "colab": {
          "base_uri": "https://localhost:8080/"
        },
        "id": "YHOkfGUw_5dL",
        "outputId": "a6d1143e-2a53-4280-bb8f-40f3dd84303f"
      },
      "execution_count": 16,
      "outputs": [
        {
          "output_type": "stream",
          "name": "stdout",
          "text": [
            "Catched! Laptop\n"
          ]
        }
      ]
    }
  ]
}