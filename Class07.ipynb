{
  "nbformat": 4,
  "nbformat_minor": 0,
  "metadata": {
    "colab": {
      "provenance": [],
      "authorship_tag": "ABX9TyOMa7SPb3B60AhhvY+4b1vh",
      "include_colab_link": true
    },
    "kernelspec": {
      "name": "python3",
      "display_name": "Python 3"
    },
    "language_info": {
      "name": "python"
    }
  },
  "cells": [
    {
      "cell_type": "markdown",
      "metadata": {
        "id": "view-in-github",
        "colab_type": "text"
      },
      "source": [
        "<a href=\"https://colab.research.google.com/github/kamranahmed71/learning-python-panaversity-batch-76/blob/main/Class07.ipynb\" target=\"_parent\"><img src=\"https://colab.research.google.com/assets/colab-badge.svg\" alt=\"Open In Colab\"/></a>"
      ]
    },
    {
      "cell_type": "code",
      "execution_count": null,
      "metadata": {
        "colab": {
          "base_uri": "https://localhost:8080/"
        },
        "id": "BOURerRDL5uA",
        "outputId": "146dcbe7-6815-4bfb-976c-6a6650051806"
      },
      "outputs": [
        {
          "output_type": "stream",
          "name": "stdout",
          "text": [
            "1\n"
          ]
        }
      ],
      "source": [
        "# Loops   (iterations)\n",
        "\n",
        "# for loop\n",
        "\n",
        "# () for function calling\n",
        "# [] for list\n",
        "# {} for\n",
        "\n",
        "num_list = [1,2,3,4,5,6,7,8,9,10]\n",
        "value = num_list[0]\n",
        "print(value)\n",
        "\n"
      ]
    },
    {
      "cell_type": "code",
      "source": [
        "num_list = [1,2,3,4,5,6,7,8,9,10]\n",
        "\n",
        "for num in num_list:\n",
        "  print(\"num value is\", num)\n",
        "\n",
        "for num in range(10):   # range is called method it start from 0, (0,9)\n",
        "  print(num)\n",
        "\n",
        "\n",
        "for num in range(1,11):\n",
        "  print(num)\n",
        "\n",
        "list(range(1,12))\n",
        "\n",
        "#"
      ],
      "metadata": {
        "colab": {
          "base_uri": "https://localhost:8080/"
        },
        "id": "9KHPq2aMNZdY",
        "outputId": "9f880fdc-e702-4f8b-f4b9-fd4bd36f6f4b"
      },
      "execution_count": null,
      "outputs": [
        {
          "output_type": "stream",
          "name": "stdout",
          "text": [
            "num value is 1\n",
            "num value is 2\n",
            "num value is 3\n",
            "num value is 4\n",
            "num value is 5\n",
            "num value is 6\n",
            "num value is 7\n",
            "num value is 8\n",
            "num value is 9\n",
            "num value is 10\n",
            "0\n",
            "1\n",
            "2\n",
            "3\n",
            "4\n",
            "5\n",
            "6\n",
            "7\n",
            "8\n",
            "9\n",
            "1\n",
            "2\n",
            "3\n",
            "4\n",
            "5\n",
            "6\n",
            "7\n",
            "8\n",
            "9\n",
            "10\n"
          ]
        },
        {
          "output_type": "execute_result",
          "data": {
            "text/plain": [
              "[1, 2, 3, 4, 5, 6, 7, 8, 9, 10, 11]"
            ]
          },
          "metadata": {},
          "execution_count": 7
        }
      ]
    },
    {
      "cell_type": "code",
      "source": [
        "# While loop\n",
        "\n",
        "# while condition:\n",
        "#   Code\n",
        "\n",
        "num = 1\n",
        "while num < 10:\n",
        "  print(\"num>>>\",num)\n",
        "  num = num + 1"
      ],
      "metadata": {
        "colab": {
          "base_uri": "https://localhost:8080/"
        },
        "id": "AvU3IkhkT3qg",
        "outputId": "c33f1fd6-9040-4c55-cf37-672b999984db"
      },
      "execution_count": null,
      "outputs": [
        {
          "output_type": "stream",
          "name": "stdout",
          "text": [
            "num>>> 1\n",
            "num>>> 2\n",
            "num>>> 3\n",
            "num>>> 4\n",
            "num>>> 5\n",
            "num>>> 6\n",
            "num>>> 7\n",
            "num>>> 8\n",
            "num>>> 9\n"
          ]
        }
      ]
    },
    {
      "cell_type": "code",
      "source": [
        "user_input = input(\"Please enter your value\")\n",
        "\n",
        "while user_input != \"exit\":\n",
        "  print(\"game is continue\")\n",
        "  user_input = input(\"Please enter your value\")\n"
      ],
      "metadata": {
        "colab": {
          "base_uri": "https://localhost:8080/"
        },
        "id": "GdTcC-K5WR-q",
        "outputId": "ce8dbfcf-17d9-4422-f417-8373c1fdf4c8"
      },
      "execution_count": null,
      "outputs": [
        {
          "name": "stdout",
          "output_type": "stream",
          "text": [
            "Please enter your valuecont\n",
            "game is continue\n",
            "Please enter your value123\n",
            "game is continue\n",
            "Please enter your value456\n",
            "game is continue\n",
            "Please enter your valueexit\n"
          ]
        }
      ]
    },
    {
      "cell_type": "code",
      "source": [
        "num1 = int(input(\"Which table do you want to print\"))\n",
        "\n",
        "for num2 in range(1,10):\n",
        "  print(num1,\"x\", num2, \"=\", (num1*num2))"
      ],
      "metadata": {
        "colab": {
          "base_uri": "https://localhost:8080/"
        },
        "id": "XdIkc9nAXlnG",
        "outputId": "c7a8a8e3-56b6-4497-c866-4a25d7cb9260"
      },
      "execution_count": 1,
      "outputs": [
        {
          "output_type": "stream",
          "name": "stdout",
          "text": [
            "Which table do you want to print4\n",
            "4 x 1 = 4\n",
            "4 x 2 = 8\n",
            "4 x 3 = 12\n",
            "4 x 4 = 16\n",
            "4 x 5 = 20\n",
            "4 x 6 = 24\n",
            "4 x 7 = 28\n",
            "4 x 8 = 32\n",
            "4 x 9 = 36\n"
          ]
        }
      ]
    }
  ]
}