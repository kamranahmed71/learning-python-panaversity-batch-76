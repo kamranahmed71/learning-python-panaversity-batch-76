{
  "nbformat": 4,
  "nbformat_minor": 0,
  "metadata": {
    "colab": {
      "provenance": [],
      "include_colab_link": true
    },
    "kernelspec": {
      "name": "python3",
      "display_name": "Python 3"
    },
    "language_info": {
      "name": "python"
    }
  },
  "cells": [
    {
      "cell_type": "markdown",
      "metadata": {
        "id": "view-in-github",
        "colab_type": "text"
      },
      "source": [
        "<a href=\"https://colab.research.google.com/github/kamranahmed71/learning-python-panaversity-batch-76/blob/main/mini_python_project.ipynb\" target=\"_parent\"><img src=\"https://colab.research.google.com/assets/colab-badge.svg\" alt=\"Open In Colab\"/></a>"
      ]
    },
    {
      "cell_type": "markdown",
      "source": [
        "# Family Fued"
      ],
      "metadata": {
        "id": "N1p4j1E6BTN_"
      }
    },
    {
      "cell_type": "code",
      "execution_count": null,
      "metadata": {
        "colab": {
          "base_uri": "https://localhost:8080/"
        },
        "id": "s6ESmhTG80bn",
        "outputId": "079eea67-5aae-4b30-fe92-c50b1ab26f85"
      },
      "outputs": [
        {
          "name": "stdout",
          "output_type": "stream",
          "text": [
            "Enter you name: Junaid Aziz\n"
          ]
        }
      ],
      "source": [
        "# player information variable's inputs\n",
        "\n",
        "player_name = input(\"Enter you name: \")\n",
        "scores = 0"
      ]
    },
    {
      "cell_type": "code",
      "source": [
        "# topic ya phir game startup or interior\n",
        "\n",
        "print(f\"\\nHello {player_name.capitalize()}!\")\n",
        "print(f\"Welcome to the Family Feud-style game!\")\n",
        "print(f\"Guess popular answers to earn points!\")"
      ],
      "metadata": {
        "colab": {
          "base_uri": "https://localhost:8080/"
        },
        "id": "MVYNwJ_pCFPe",
        "outputId": "224ae1a1-3ffb-4f25-d3fb-90adc9a12a50"
      },
      "execution_count": null,
      "outputs": [
        {
          "output_type": "stream",
          "name": "stdout",
          "text": [
            "\n",
            "Hello Junaid aziz!\n",
            "Welcome to the Family Feud-style game!\n",
            "Guess popular answers to earn points!\n"
          ]
        }
      ]
    },
    {
      "cell_type": "markdown",
      "source": [
        "# Question 1"
      ],
      "metadata": {
        "id": "V2SG7z0HIDqX"
      }
    },
    {
      "cell_type": "code",
      "source": [
        "# list multiple answers ko store kar rahe hai\n",
        "\n",
        "answers1 = [\"read\", \"check phone\", \"pray\", \"brush teeth\"]\n",
        "points1 = [7, 3, 5, 10]"
      ],
      "metadata": {
        "id": "tUJFKfPaDXFV"
      },
      "execution_count": null,
      "outputs": []
    },
    {
      "cell_type": "code",
      "source": [
        "# question1\n",
        "\n",
        "print(f\"\\nQuestion 1: Name something you do before going to bed.\")\n",
        "answer1 = input(\"Your Answer: \").lower()"
      ],
      "metadata": {
        "colab": {
          "base_uri": "https://localhost:8080/"
        },
        "id": "lDNW2vKrEZ-K",
        "outputId": "a0258351-8d9d-4606-9726-fecd8a26cc38"
      },
      "execution_count": null,
      "outputs": [
        {
          "name": "stdout",
          "output_type": "stream",
          "text": [
            "\n",
            "Question 1: Name something you do before going to bed.\n",
            "Your Answer: pray\n"
          ]
        }
      ]
    },
    {
      "cell_type": "code",
      "source": [
        "# conditions for the answer's\n",
        "\n",
        "if answer1 == answers1[3]:\n",
        "  print(f\"Correct! Top Answer! +10 points\")\n",
        "  scores += 10\n",
        "elif answer1 == answers1[0]:\n",
        "  print(f\"Good guess! +7 points\")\n",
        "  scores += 7\n",
        "elif answer1 == answers1[2]:\n",
        "  print(f\"Nice try! +5 points\")\n",
        "  scores += 5\n",
        "elif answer1 == answers1[1]:\n",
        "  print(f\"Many People do that! +3 points\")\n",
        "  scores += 3\n",
        "else:\n",
        "  print(f\"Not on the list. 0 Points\")\n",
        "\n",
        "print(f\"Your scores now is {scores}\")"
      ],
      "metadata": {
        "colab": {
          "base_uri": "https://localhost:8080/"
        },
        "id": "GPPK5F6sFhFr",
        "outputId": "87efda12-c21c-488f-e714-e89febca035c"
      },
      "execution_count": null,
      "outputs": [
        {
          "output_type": "stream",
          "name": "stdout",
          "text": [
            "Nice try! +5 points\n",
            "Your scores now is 5\n"
          ]
        }
      ]
    },
    {
      "cell_type": "markdown",
      "source": [
        "# Question 2"
      ],
      "metadata": {
        "id": "N33oQhuGIQDi"
      }
    },
    {
      "cell_type": "code",
      "source": [
        "# question 2 ke answers ke list create karni hai\n",
        "\n",
        "answers2 = [\"Apple\", \"strawberry\", \"cherry\", \"pomegranate\"]\n",
        "points2 = [10, 7, 5, 3]"
      ],
      "metadata": {
        "id": "spT8Q9cZIS3E"
      },
      "execution_count": null,
      "outputs": []
    },
    {
      "cell_type": "code",
      "source": [
        "# write question 2\n",
        "\n",
        "print(f\"Question 2: name a fruit name that is red.\")\n",
        "answer2 = input(\"Your Answer: \").lower()"
      ],
      "metadata": {
        "colab": {
          "base_uri": "https://localhost:8080/"
        },
        "id": "nly7VhbfIwYx",
        "outputId": "b7aef662-6ba3-4025-e1fd-b539bc883022"
      },
      "execution_count": null,
      "outputs": [
        {
          "name": "stdout",
          "output_type": "stream",
          "text": [
            "Question 2: name a fruit name that is red.\n",
            "Your Answer: Apple\n"
          ]
        }
      ]
    },
    {
      "cell_type": "code",
      "source": [
        "#  conditions for question 2\n",
        "\n",
        "if answer2 == answers2[0]:\n",
        "  print(f\"Correct! Top Answer! +10 points\")\n",
        "  scores += 10\n",
        "elif answer2 == answers2[1]:\n",
        "  print(f\"Good guess! +7 points\")\n",
        "  scores += 7\n",
        "elif answer2 == answers2[2]:\n",
        "  print(f\"Nice try! +5 points\")\n",
        "  scores += 5\n",
        "elif answer2 == answers2[3]:\n",
        "  print(f\"Many People do that! +3 points\")\n",
        "  scores += 3\n",
        "else:\n",
        "  print(f\"Not on the list. 0 Points\")\n",
        "\n",
        "print(f\"Your scores now is {scores}\")"
      ],
      "metadata": {
        "colab": {
          "base_uri": "https://localhost:8080/"
        },
        "id": "PJiX-L-EJFOZ",
        "outputId": "40383348-109b-4f4a-c8a8-2ad3952d29ec"
      },
      "execution_count": null,
      "outputs": [
        {
          "output_type": "stream",
          "name": "stdout",
          "text": [
            "Not on the list. 0 Points\n",
            "Your scores now is 5\n"
          ]
        }
      ]
    },
    {
      "cell_type": "markdown",
      "source": [
        "# question 3"
      ],
      "metadata": {
        "id": "XzvnhpgrKofE"
      }
    },
    {
      "cell_type": "code",
      "source": [
        "answers3 = [\"bag\", \"books\", \"lunch\", \"pencil\"]\n",
        "points3 = [10, 7, 5, 3]"
      ],
      "metadata": {
        "id": "1sjlWN4eKn88"
      },
      "execution_count": null,
      "outputs": []
    },
    {
      "cell_type": "code",
      "source": [
        "print(f\"Question 3: Name something you take to school.\")\n",
        "\n",
        "answer3 = input(\"Your answer: \").lower()"
      ],
      "metadata": {
        "colab": {
          "base_uri": "https://localhost:8080/"
        },
        "id": "mIBc1jIhLNJO",
        "outputId": "735bf119-8547-40bf-c787-d3cd7660e821"
      },
      "execution_count": null,
      "outputs": [
        {
          "name": "stdout",
          "output_type": "stream",
          "text": [
            "Question 3: Name something you take to school.\n",
            "Your answer: books\n"
          ]
        }
      ]
    },
    {
      "cell_type": "code",
      "source": [
        "#  conditions for question 3\n",
        "\n",
        "if answer3 == answers3[0]:\n",
        "  print(f\"Correct! Top Answer! +10 points\")\n",
        "  scores += 10\n",
        "elif answer3 == answers3[1]:\n",
        "  print(f\"Good guess! +7 points\")\n",
        "  scores += 7\n",
        "elif answer3 == answers3[2]:\n",
        "  print(f\"Nice try! +5 points\")\n",
        "  scores += 5\n",
        "elif answer3 == answers3[3]:\n",
        "  print(f\"Many People do that! +3 points\")\n",
        "  scores += 3\n",
        "else:\n",
        "  print(f\"Not on the list. 0 Points\")\n",
        "\n",
        "print(f\"Your scores now is {scores}\")"
      ],
      "metadata": {
        "colab": {
          "base_uri": "https://localhost:8080/"
        },
        "id": "-0FDK7KSLge3",
        "outputId": "cdfdfe55-0c1f-400c-8f7d-03ebf808898a"
      },
      "execution_count": null,
      "outputs": [
        {
          "output_type": "stream",
          "name": "stdout",
          "text": [
            "Good guess! +7 points\n",
            "Your scores now is 12\n"
          ]
        }
      ]
    },
    {
      "cell_type": "code",
      "source": [],
      "metadata": {
        "id": "rXx6yKKPNPTZ"
      },
      "execution_count": null,
      "outputs": []
    },
    {
      "cell_type": "code",
      "source": [
        "# last answer from game\n",
        "\n",
        "print(f\"Your final score is {scores} Points!\")\n",
        "\n",
        "# final prize\n",
        "if scores >= 25:\n",
        "  print(f\"WOW {player_name}! You are a naild it.\")\n",
        "elif scores >= 15:\n",
        "  print(f\"Good job {player_name}! You did well.\")\n",
        "else:\n",
        "  print(f\"Nice try {player_name}! Keep practicing.\")"
      ],
      "metadata": {
        "colab": {
          "base_uri": "https://localhost:8080/"
        },
        "id": "Jtxva9ThL9Ph",
        "outputId": "71e32bd4-79e8-474d-bf85-007cc28293d4"
      },
      "execution_count": null,
      "outputs": [
        {
          "output_type": "stream",
          "name": "stdout",
          "text": [
            "Your final score is 12 Points!\n",
            "Nice try Junaid Aziz! Keep practicing.\n"
          ]
        }
      ]
    },
    {
      "cell_type": "code",
      "source": [
        "# dictionary ko use karte hoe player_name or iske scores\n",
        "# set ko use karte hoe aap unique_answers \"fun\" .add()\n",
        "# tuple ko use karte hoe aap karen gy ke (\"Champion\", \"Good\", \"Beginer\")\n",
        "# indexing ko use karte hoe aap real name ke aik nick name create kar den gy is ke liye aap slicing method sue karen gy and the save kar den gy or player ko inform kar den gy\n",
        "# ditiocary data summary unique answer ranks choices print\n",
        "# player items pencil bag print school ke items aap ne kiya kiya ke append kar diya notebbok pencil mein remove kar diya last mein print kar den player item\n",
        "# ending message kiya hoga"
      ],
      "metadata": {
        "id": "Bg7raCTVN-qy"
      },
      "execution_count": null,
      "outputs": []
    }
  ]
}