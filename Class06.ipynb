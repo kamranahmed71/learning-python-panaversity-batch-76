{
  "nbformat": 4,
  "nbformat_minor": 0,
  "metadata": {
    "colab": {
      "provenance": [],
      "authorship_tag": "ABX9TyMjAZPJwVD6bkpukcdGHUvC",
      "include_colab_link": true
    },
    "kernelspec": {
      "name": "python3",
      "display_name": "Python 3"
    },
    "language_info": {
      "name": "python"
    }
  },
  "cells": [
    {
      "cell_type": "markdown",
      "metadata": {
        "id": "view-in-github",
        "colab_type": "text"
      },
      "source": [
        "<a href=\"https://colab.research.google.com/github/kamranahmed71/learning-python-panaversity-batch-76/blob/main/Class06.ipynb\" target=\"_parent\"><img src=\"https://colab.research.google.com/assets/colab-badge.svg\" alt=\"Open In Colab\"/></a>"
      ]
    },
    {
      "cell_type": "code",
      "source": [
        "# lambda function /  Anonymous function / one line function\n",
        "\n",
        "# lambda parameters:  statement / expression\n",
        "\n",
        "# lambda num1, num2:  num1 + num2\n",
        "\n",
        "add = lambda num1, num2:  num1 + num2\n",
        "\n",
        "print(add(2, 5))"
      ],
      "metadata": {
        "colab": {
          "base_uri": "https://localhost:8080/"
        },
        "id": "XHbDeY0YG0xW",
        "outputId": "23c1c6a4-e3d5-49f7-9635-0aa3b592f5c7"
      },
      "execution_count": 6,
      "outputs": [
        {
          "output_type": "stream",
          "name": "stdout",
          "text": [
            "7\n"
          ]
        }
      ]
    },
    {
      "cell_type": "code",
      "source": [
        "# Dictionary   (means properties of objects)\n",
        "\n",
        "user_dict = {\n",
        "    \"name\":\"Kamran\",\n",
        "    \"rollNo\":1122,\n",
        "    \"age\": 44\n",
        "}\n",
        "\n",
        "print(\"User Data\",user_dict)\n",
        "print(\"User Data\", user_dict[\"name\"])\n",
        "print(\"User Age\", user_dict[\"age\"])"
      ],
      "metadata": {
        "colab": {
          "base_uri": "https://localhost:8080/"
        },
        "id": "54zNAzExI5cc",
        "outputId": "be8dc3ad-a61c-4cb8-effa-aae64cf7d687"
      },
      "execution_count": 9,
      "outputs": [
        {
          "output_type": "stream",
          "name": "stdout",
          "text": [
            "User Data {'name': 'Kamran', 'rollNo': 1122, 'age': 44}\n",
            "User Data Kamran\n",
            "User Age 44\n"
          ]
        }
      ]
    },
    {
      "cell_type": "code",
      "source": [
        "user_data = {\n",
        "    \"name\":\"Kamran\",\n",
        "    \"rollNo\":1122,\n",
        "    \"age\": 44,\n",
        "    \"mobile\": \"03333899845\",\n",
        "    \"email\": \"kamranferoze@gmail.com\",\n",
        "    \"square\": lambda num1: num1 * num1\n",
        "}\n",
        "\n",
        "print(\"User Data is:\", user_data[\"square\"](2))\n",
        "print(\"User Data is:\", user_data[\"square\"](5))"
      ],
      "metadata": {
        "colab": {
          "base_uri": "https://localhost:8080/"
        },
        "id": "7Fsrj5HLM7Rm",
        "outputId": "535bb355-478a-4af5-8e10-6b4c53fcd5ce"
      },
      "execution_count": 28,
      "outputs": [
        {
          "output_type": "stream",
          "name": "stdout",
          "text": [
            "User Data is: 4\n",
            "User Data is: 25\n"
          ]
        }
      ]
    },
    {
      "cell_type": "code",
      "source": [
        "# Loops   (iterations)\n",
        "\n",
        "# for loop\n",
        "\n",
        "for i in range(20):\n",
        "  print(\"Work\")\n"
      ],
      "metadata": {
        "colab": {
          "base_uri": "https://localhost:8080/"
        },
        "id": "8Wgj3e2qUUBU",
        "outputId": "2b3b93de-ba51-4b67-92a2-1417ed817093"
      },
      "execution_count": 30,
      "outputs": [
        {
          "output_type": "stream",
          "name": "stdout",
          "text": [
            "Work\n",
            "Work\n",
            "Work\n",
            "Work\n",
            "Work\n",
            "Work\n",
            "Work\n",
            "Work\n",
            "Work\n",
            "Work\n",
            "Work\n",
            "Work\n",
            "Work\n",
            "Work\n",
            "Work\n",
            "Work\n",
            "Work\n",
            "Work\n",
            "Work\n",
            "Work\n"
          ]
        }
      ]
    }
  ]
}