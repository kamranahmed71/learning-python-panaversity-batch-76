{
  "nbformat": 4,
  "nbformat_minor": 0,
  "metadata": {
    "colab": {
      "provenance": [],
      "include_colab_link": true
    },
    "kernelspec": {
      "name": "python3",
      "display_name": "Python 3"
    },
    "language_info": {
      "name": "python"
    }
  },
  "cells": [
    {
      "cell_type": "markdown",
      "metadata": {
        "id": "view-in-github",
        "colab_type": "text"
      },
      "source": [
        "<a href=\"https://colab.research.google.com/github/kamranahmed71/learning-python-panaversity-batch-76/blob/main/class02.ipynb\" target=\"_parent\"><img src=\"https://colab.research.google.com/assets/colab-badge.svg\" alt=\"Open In Colab\"/></a>"
      ]
    },
    {
      "cell_type": "code",
      "execution_count": null,
      "metadata": {
        "colab": {
          "base_uri": "https://localhost:8080/"
        },
        "id": "Qd2BG4RpdqOA",
        "outputId": "b50c7f6a-9637-4c66-d93f-a96befc639a2"
      },
      "outputs": [
        {
          "output_type": "stream",
          "name": "stdout",
          "text": [
            "Hello world\n"
          ]
        }
      ],
      "source": [
        "#  i am printing hello world\n",
        "#  now i will write some more code\n",
        "#  then will tell what it is doing\n",
        "\n",
        "print(\"Hello world\")"
      ]
    },
    {
      "cell_type": "code",
      "source": [
        "#  variables\n",
        "name = \"Aneeq\"\n",
        "number = 10\n",
        "print(number)"
      ],
      "metadata": {
        "colab": {
          "base_uri": "https://localhost:8080/"
        },
        "id": "sXp6QbW1e2DD",
        "outputId": "6cb9d769-e3a3-4d13-995e-c153bf5086fd"
      },
      "execution_count": null,
      "outputs": [
        {
          "output_type": "stream",
          "name": "stdout",
          "text": [
            "10\n"
          ]
        }
      ]
    },
    {
      "cell_type": "code",
      "source": [
        "# data types\n",
        "# 1- string\n",
        "# 2- integer\n",
        "# 3- boolean\n",
        "# 4- float\n",
        "# 5- list\n",
        "# 6- dictionary\n",
        "# 7- set\n",
        "# 8- tuple\n",
        "\n",
        "# 1- String -> str\n",
        "print(\"Aneeq\")\n",
        "\n",
        "# 2- Integer -> int\n",
        "print(5)\n",
        "\n",
        "# 3- float -> float\n",
        "print(5.5)\n",
        "\n",
        "# 4- Boolean ->  bool -> True / False\n",
        "print(False)"
      ],
      "metadata": {
        "colab": {
          "base_uri": "https://localhost:8080/"
        },
        "id": "4N8Z_l5cjbaZ",
        "outputId": "1b39f438-20f9-4bde-ef5c-23616f704ef3"
      },
      "execution_count": null,
      "outputs": [
        {
          "output_type": "stream",
          "name": "stdout",
          "text": [
            "Aneeq\n",
            "5\n",
            "5.5\n",
            "False\n"
          ]
        }
      ]
    },
    {
      "cell_type": "code",
      "source": [
        "user_name = \"Aneeq\"\n",
        "name_type = type(user_name)\n",
        "print(name_type)\n",
        "\n",
        "number = 20\n",
        "print(type(number))\n",
        "\n",
        "floating_number = 2.4\n",
        "print(type(floating_number))\n",
        "\n",
        "boolean_number = True\n",
        "print(type(boolean_number))"
      ],
      "metadata": {
        "colab": {
          "base_uri": "https://localhost:8080/"
        },
        "id": "ugLTuGkmoh9-",
        "outputId": "a8e000c8-cbf6-4012-902f-71290b1a0350"
      },
      "execution_count": null,
      "outputs": [
        {
          "output_type": "stream",
          "name": "stdout",
          "text": [
            "<class 'str'>\n",
            "<class 'int'>\n",
            "<class 'float'>\n",
            "<class 'bool'>\n"
          ]
        }
      ]
    },
    {
      "cell_type": "code",
      "source": [
        "# Operators\n",
        "\n",
        "#       2 = operand  , + = operator\n",
        "# print(2 + 2)\n",
        "\n",
        "\n",
        "# 1- Arithmetic Operators\n",
        "# 2- Comparison Operators\n",
        "# 3- Assignment Operators\n",
        "# 4- Logical Operators"
      ],
      "metadata": {
        "id": "7rVTVjIuo3Tf"
      },
      "execution_count": null,
      "outputs": []
    },
    {
      "cell_type": "code",
      "source": [
        "# Arithmetic Operators\n",
        "\n",
        "# Additions ->  +\n",
        "# subtraction -> -\n",
        "# Mutliplication -> *\n",
        "# Divison -> /\n",
        "# Modulus -> %\n",
        "# Floor Division ->//\n",
        "# Exponention -> **\n",
        "\n",
        "\n",
        "print(2 + 2) # Addition\n",
        "print(10 - 5) # Subtraction\n",
        "print(10 * 2) # Mutliplication\n",
        "print(20 / 2 ) # Division\n",
        "print(10 // 3) # Floor Divsion\n",
        "print(10 % 3)  # Modulus -> 10 - 3 = 7 - 3 = 4- 3 =1\n",
        "print(2 ** 3) # Exponention -> 2 * 2 * 2 = 8"
      ],
      "metadata": {
        "colab": {
          "base_uri": "https://localhost:8080/"
        },
        "id": "TbfoMGuxuNDl",
        "outputId": "e00ce53c-eb19-49b2-9c76-38bed16f3b11"
      },
      "execution_count": null,
      "outputs": [
        {
          "output_type": "stream",
          "name": "stdout",
          "text": [
            "4\n",
            "5\n",
            "20\n",
            "10.0\n",
            "3\n",
            "1\n",
            "8\n"
          ]
        }
      ]
    },
    {
      "cell_type": "code",
      "source": [
        "# 2- Comparison Operators\n",
        "\n",
        "# equal to -> ==\n",
        "# greater than -> >\n",
        "# less than -> <\n",
        "# not equal -> !=\n",
        "# greater equal to -> >= -> ya to zyada he ya phr baraber he\n",
        "# less than equal to -> <=  -> ya to kam he ya phr baraber he\n",
        "\n",
        "num1 = 10\n",
        "num2 = 5\n",
        "\n",
        "\n",
        "print(num1 == num2) # meri dono value baraber hen ->  False\n",
        "print(num1 > num2) # num1 ki value num2 se zyada he -> True\n",
        "print(num1 < num2) # num1 ki value num2 se kam he ->  False\n",
        "print(num1 != num2) # num1 jo he num2 k baraber nahi he -> True"
      ],
      "metadata": {
        "colab": {
          "base_uri": "https://localhost:8080/"
        },
        "id": "P0FysEI_vLcK",
        "outputId": "cb2cd2c6-1162-45ec-d1ca-379a4ceef87c"
      },
      "execution_count": null,
      "outputs": [
        {
          "output_type": "stream",
          "name": "stdout",
          "text": [
            "False\n",
            "True\n",
            "False\n",
            "True\n"
          ]
        }
      ]
    },
    {
      "cell_type": "code",
      "source": [
        "# Assignment Operators\n",
        "# equal to -> =\n",
        "# =\tx = 5\tx = 5\n",
        "\n",
        "\n",
        "name = \"Aneeq\"\n",
        "\n",
        "num1 = 20\n",
        "# num2  = 20 + 5\n",
        "num2 = num1 + 5  # 20 + 5 =  25\n",
        "print(num2)\n",
        "num3 = num1 - 5 # 20-5 = 15\n",
        "print(num3)\n",
        "num4 = num1 * 5 # 20 * 5 = 100\n",
        "print(num4)\n",
        "num5 = num1 / 5 # 20 / 5 =  4.0\n",
        "print(num5)"
      ],
      "metadata": {
        "colab": {
          "base_uri": "https://localhost:8080/"
        },
        "id": "vdG5whhqyfXn",
        "outputId": "b7d86e88-4697-438a-eff6-1a60dde86d00"
      },
      "execution_count": null,
      "outputs": [
        {
          "output_type": "stream",
          "name": "stdout",
          "text": [
            "25\n",
            "15\n",
            "100\n",
            "4.0\n"
          ]
        }
      ]
    },
    {
      "cell_type": "code",
      "source": [
        "# Logical Operators\n",
        "#  Logical And -> and\n",
        "# Logical Or -> or\n",
        "# Logical Not -> not\n",
        "\n",
        "num1 = 10\n",
        "num2 = 20\n",
        "\n",
        "# condition = num1 baraber na ho num2 k   and   num1  chota ho num2 se\n",
        "result = num1 != num2 and num1 < num2\n",
        "print(result)\n",
        "#           True        and  False\n",
        "result2 = num1 != num2 and num1 > num2\n",
        "print(result2)\n",
        "#          True         ya   False\n",
        "result3 = num1 != num2 or num1 > num2\n",
        "print(result3)"
      ],
      "metadata": {
        "colab": {
          "base_uri": "https://localhost:8080/"
        },
        "id": "lZyGkGob4kL4",
        "outputId": "5f6305f9-586d-4950-bc65-206781837b78"
      },
      "execution_count": null,
      "outputs": [
        {
          "output_type": "stream",
          "name": "stdout",
          "text": [
            "True\n",
            "False\n",
            "True\n"
          ]
        }
      ]
    },
    {
      "cell_type": "code",
      "source": [
        "num1 = 10\n",
        "num2 = 20\n",
        "print(num1,num2)\n",
        "# print(\"num1 is\", num1)\n",
        "print(\"num1 added by num2\", num1+num2 )"
      ],
      "metadata": {
        "colab": {
          "base_uri": "https://localhost:8080/"
        },
        "id": "JTbnX3n07ggd",
        "outputId": "86affa77-8b32-4153-d729-25f1caa15a7e"
      },
      "execution_count": null,
      "outputs": [
        {
          "output_type": "stream",
          "name": "stdout",
          "text": [
            "10 20\n",
            "num1 is 10\n"
          ]
        }
      ]
    },
    {
      "cell_type": "code",
      "source": [],
      "metadata": {
        "id": "jWGFenlw87bW"
      },
      "execution_count": null,
      "outputs": []
    }
  ]
}