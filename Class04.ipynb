{
  "nbformat": 4,
  "nbformat_minor": 0,
  "metadata": {
    "colab": {
      "provenance": [],
      "authorship_tag": "ABX9TyMj6IF9aiP8MChiuEtTMSps",
      "include_colab_link": true
    },
    "kernelspec": {
      "name": "python3",
      "display_name": "Python 3"
    },
    "language_info": {
      "name": "python"
    }
  },
  "cells": [
    {
      "cell_type": "markdown",
      "metadata": {
        "id": "view-in-github",
        "colab_type": "text"
      },
      "source": [
        "<a href=\"https://colab.research.google.com/github/kamranahmed71/learning-python-panaversity-batch-76/blob/main/Class04.ipynb\" target=\"_parent\"><img src=\"https://colab.research.google.com/assets/colab-badge.svg\" alt=\"Open In Colab\"/></a>"
      ]
    },
    {
      "cell_type": "code",
      "source": [
        "firstname = input(\"What is your first name: \")  # first_name (it is a snake case)\n",
        "lastname = input(\"What is your last name: \")\n",
        "age = input(\"What is your age: \")\n",
        "\n",
        "print(f'{firstname} {lastname}, and your age is: {age} {2 + 2} 2 + 2')  # at the end result in string format\n"
      ],
      "metadata": {
        "colab": {
          "base_uri": "https://localhost:8080/"
        },
        "id": "JAJCPag2f9lJ",
        "outputId": "b042fa51-5582-4854-bac9-bc90660191d7"
      },
      "execution_count": null,
      "outputs": [
        {
          "output_type": "stream",
          "name": "stdout",
          "text": [
            "What is your first name: Kamran\n",
            "What is your last name: Ahmed\n",
            "What is your age: 40\n",
            "Kamran Ahmed, and your age is: 40 4 2 + 2\n"
          ]
        }
      ]
    },
    {
      "cell_type": "code",
      "source": [
        "print(1 + 1)\n",
        "# print(1 + \"1\")     generate error in python\n",
        "print(\"1\" + \"1\")\n"
      ],
      "metadata": {
        "colab": {
          "base_uri": "https://localhost:8080/"
        },
        "id": "VgCC0TOMrZSG",
        "outputId": "ab240115-5efa-4c16-91ee-cb876b374f4a"
      },
      "execution_count": null,
      "outputs": [
        {
          "output_type": "stream",
          "name": "stdout",
          "text": [
            "2\n",
            "11\n"
          ]
        }
      ]
    },
    {
      "cell_type": "code",
      "source": [
        "fav_fruit1 = \"Mango\"\n",
        "fav_fruit1 = \"Orange\"\n",
        "\n",
        "print(fav_fruit1)"
      ],
      "metadata": {
        "colab": {
          "base_uri": "https://localhost:8080/"
        },
        "id": "E5oR-wqds0HW",
        "outputId": "4b8611bd-fb5f-42c7-bce7-26cae71588e8"
      },
      "execution_count": null,
      "outputs": [
        {
          "output_type": "stream",
          "name": "stdout",
          "text": [
            "Orange\n"
          ]
        }
      ]
    },
    {
      "cell_type": "code",
      "source": [
        "# fav_fruit1 = \"Mango\"\n",
        "# fav_fruit2 = \"Orange\"\n",
        "# fav_fruit3 = \"Banana\"\n",
        "# fav_fruit2 = \"Grapes\"\n",
        "\n",
        "fav_fruit = [\"Mango\", \"Orange\", \"Banana\", \"Grapes\"]   # its a list / values of list are an element\n",
        "\n",
        "print(fav_fruit)\n",
        "print(fav_fruit[0])\n",
        "print(fav_fruit[2])"
      ],
      "metadata": {
        "colab": {
          "base_uri": "https://localhost:8080/"
        },
        "id": "jSWInikdtxX3",
        "outputId": "139f8e3f-daa4-4451-af99-8fa20e57a306"
      },
      "execution_count": null,
      "outputs": [
        {
          "output_type": "stream",
          "name": "stdout",
          "text": [
            "['Mango', 'Orange', 'Banana', 'Grapes']\n",
            "Mango\n",
            "Banana\n"
          ]
        }
      ]
    },
    {
      "cell_type": "code",
      "source": [
        "fav_numbers = [1,2,3,4,5,6,7,8,9,10]\n",
        "fav_mixed_list = [\"Apple\", 20, True, 30.4]\n",
        "\n",
        "print(fav_numbers)\n",
        "print(fav_numbers[0])\n",
        "print(fav_numbers[2])\n",
        "\n",
        "# Override\n",
        "print(\"List before Update:\", fav_mixed_list)\n",
        "fav_mixed_list[0] = \"Mango\"\n",
        "print(\"List after Update:\", fav_mixed_list)\n",
        "\n",
        "\n",
        "# Append\n",
        "print(\"List before Add:\"fav_mixed_list)\n",
        "fav_mixed_list[0] = \"Mango\"\n",
        "print(\"List after Add:\"fav_mixed_list)\n",
        "\n",
        "\n",
        "print(fav_mixed_list[0])\n",
        "print(fav_mixed_list[2])\n"
      ],
      "metadata": {
        "colab": {
          "base_uri": "https://localhost:8080/"
        },
        "id": "wbLpJzmzylmK",
        "outputId": "566f6780-9cfb-422f-acaf-27f48a91cfc8"
      },
      "execution_count": null,
      "outputs": [
        {
          "output_type": "stream",
          "name": "stdout",
          "text": [
            "[1, 2, 3, 4, 5, 6, 7, 8, 9, 10]\n",
            "1\n",
            "3\n",
            "List before Update: ['Apple', 20, True, 30.4]\n",
            "List after Update: ['Mango', 20, True, 30.4]\n",
            "['Mango', 20, True, 30.4]\n",
            "['Mango', 20, True, 30.4]\n",
            "Mango\n",
            "True\n"
          ]
        }
      ]
    },
    {
      "cell_type": "code",
      "source": [
        "# List Methods\n",
        "# append\n",
        "# insert\n",
        "# removed\n",
        "# pop\n",
        "# len\n",
        "# sort\n",
        "# reverse\n",
        "# index\n",
        "\n",
        "numbers_list = [1, 2, 3, 4, 5]\n",
        "print(\"List\", numbers_list)\n",
        "\n",
        "# append (to add the last of list)\n",
        "numbers_list.append(6)\n",
        "numbers_list.append(10)\n",
        "print(\"List After Append:\", numbers_list)\n",
        "\n",
        "\n",
        "numbers_list = [1, 2, 4, 5]\n",
        "print(\"List\", numbers_list)\n",
        "\n",
        "# insert (to add the number of any specific position)\n",
        "numbers_list.insert(2,3)\n",
        "print(\"List After Insert:\", numbers_list)\n",
        "\n",
        "\n",
        "numbers_list = [1, 2, 4, 5]\n",
        "print(\"List\", numbers_list)\n",
        "\n",
        "# pop (to remove the elements at the last of the list)\n",
        "numbers_list.pop()\n",
        "numbers_list.pop(1) # remove at certain index\n",
        "print(\"List After Pop:\", numbers_list)\n",
        "\n",
        "\n",
        "numbers_list = [1, 2, 4, 5]\n",
        "print(\"List\", numbers_list)\n",
        "\n",
        "# removed (to remove the specific value of the list)\n",
        "numbers_list.remove(2)\n",
        "print(\"List After Removed:\", numbers_list)\n",
        "\n",
        "\n",
        "numbers_list = [1, 2, 3, 4, 5]\n",
        "print(\"List\", numbers_list)\n",
        "\n",
        "# len (to count the elements)\n",
        "print(\"List Len:\", len(numbers_list))\n",
        "\n",
        "\n",
        "numbers_list = [1, 2, 3, 4, 5]\n",
        "print(\"List\", numbers_list)\n",
        "\n",
        "# Select Last one from the list\n",
        "print(\"Select Last one from the list:\", numbers_list[-1])\n",
        "\n",
        "\n",
        "numbers_list = [1, 2, 3, 4, 5]\n",
        "print(\"List\", numbers_list)\n",
        "\n",
        "# Select the data from range\n",
        "print(\"Slice from the list:\", numbers_list[1:3])\n",
        "print(\"Slice from the list with step:\", numbers_list[1:3:4])\n"
      ],
      "metadata": {
        "colab": {
          "base_uri": "https://localhost:8080/"
        },
        "id": "Ra9xN-7F4FPE",
        "outputId": "7887ca37-9400-467c-f77b-ab960e910dab"
      },
      "execution_count": null,
      "outputs": [
        {
          "output_type": "stream",
          "name": "stdout",
          "text": [
            "List [1, 2, 3, 4, 5]\n",
            "List After Append: [1, 2, 3, 4, 5, 6, 10]\n",
            "List [1, 2, 4, 5]\n",
            "List After Insert: [1, 2, 3, 4, 5]\n",
            "List [1, 2, 4, 5]\n",
            "List After Pop: [1, 2, 4]\n",
            "List [1, 2, 4, 5]\n",
            "List After Removed: [1, 4, 5]\n",
            "List [1, 2, 3, 4, 5]\n",
            "List Len: 5\n"
          ]
        }
      ]
    }
  ]
}