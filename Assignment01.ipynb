{
  "nbformat": 4,
  "nbformat_minor": 0,
  "metadata": {
    "colab": {
      "provenance": [],
      "authorship_tag": "ABX9TyPu4/Ecg7KgrqnTulkccYKc",
      "include_colab_link": true
    },
    "kernelspec": {
      "name": "python3",
      "display_name": "Python 3"
    },
    "language_info": {
      "name": "python"
    }
  },
  "cells": [
    {
      "cell_type": "markdown",
      "metadata": {
        "id": "view-in-github",
        "colab_type": "text"
      },
      "source": [
        "<a href=\"https://colab.research.google.com/github/kamranahmed71/learning-python-panaversity-batch-76/blob/main/Assignment01.ipynb\" target=\"_parent\"><img src=\"https://colab.research.google.com/assets/colab-badge.svg\" alt=\"Open In Colab\"/></a>"
      ]
    },
    {
      "cell_type": "code",
      "execution_count": 1,
      "metadata": {
        "colab": {
          "base_uri": "https://localhost:8080/"
        },
        "id": "9wpoOiKNQK7V",
        "outputId": "b177fb2d-518f-443a-b8a2-04d984d3e8d7"
      },
      "outputs": [
        {
          "output_type": "stream",
          "name": "stdout",
          "text": [
            "Kamran Ahmed, 40, True\n",
            "<class 'str'>\n",
            "<class 'int'>\n",
            "<class 'bool'>\n"
          ]
        }
      ],
      "source": [
        "# Q1: Variables & Data Types\n",
        "# 1. Create the following variables:\n",
        "# ○ name → your full name\n",
        "# ○ age → your age\n",
        "# ○ is_student → a boolean value (True/False)\n",
        "# 2. Print all variables in one line.\n",
        "# 3. Print the data type of each variable using type().\n",
        "\n",
        "name = \"Kamran Ahmed\"\n",
        "age = 40\n",
        "is_student = True\n",
        "\n",
        "print(name, age, is_student, sep=\", \")\n",
        "  # 1. Print each variable on a new line.\n",
        "print(type(name))\n",
        "print(type(age))\n",
        "print(type(is_student))\n"
      ]
    },
    {
      "cell_type": "code",
      "source": [
        "# Q2: Arithmetic Operators\n",
        "# Let x = 20 and y = 6. Perform and print the results of:\n",
        "# ● Addition\n",
        "# ● Subtraction\n",
        "# ● Multiplication\n",
        "# ● Division\n",
        "# ● Floor Division\n",
        "# ● Modulus\n",
        "# ● Exponent\n",
        "\n",
        "x = 20\n",
        "y = 6\n",
        "\n",
        "print(\"Addition:\", x + y)\n",
        "print(\"Subtraction:\", x - y)\n",
        "print(\"Multiplication:\", x * y)\n",
        "print(\"Division:\", x / y)\n",
        "print(\"Floor Division:\", x // y)\n",
        "print(\"Modulus:\", x % y)\n",
        "print(\"Exponent:\", x ** y)\n"
      ],
      "metadata": {
        "colab": {
          "base_uri": "https://localhost:8080/"
        },
        "id": "GLPYA8DlQhVv",
        "outputId": "5796274e-9bb8-4115-e967-6ba41738fac9"
      },
      "execution_count": 2,
      "outputs": [
        {
          "output_type": "stream",
          "name": "stdout",
          "text": [
            "Addition: 26\n",
            "Subtraction: 14\n",
            "Multiplication: 120\n",
            "Division: 3.3333333333333335\n",
            "Floor Division: 3\n",
            "Modulus: 2\n",
            "Exponent: 64000000\n"
          ]
        }
      ]
    },
    {
      "cell_type": "code",
      "source": [
        "# Q3: Assignment Operators\n",
        "# Let num = 10.\n",
        "# 1. Add 5 to num using the += operator.\n",
        "# 2. Multiply num by 2 using the *= operator.\n",
        "# 3. Subtract 4 from num using the -= operator.\n",
        "# 4. Print the final value of num.\n",
        "\n",
        "\n",
        "num = 10\n",
        "\n",
        "# 1. Add 5 to num using the += operator.\n",
        "num + 5\n",
        "# 2. Multiply num by 2 using the *= operator.\n",
        "num * 2\n",
        "# 3. Subtract 4 from num using the -= operator.\n",
        "num - 4\n",
        "# 4. Print the final value of num.\n",
        "print(\"Final value of num:\", num)\n"
      ],
      "metadata": {
        "colab": {
          "base_uri": "https://localhost:8080/"
        },
        "id": "FG71zfc9Q3z2",
        "outputId": "f5eb1569-db89-4ffa-96e8-ce69463a6a7c"
      },
      "execution_count": 3,
      "outputs": [
        {
          "output_type": "stream",
          "name": "stdout",
          "text": [
            "Final value of num: 10\n"
          ]
        }
      ]
    },
    {
      "cell_type": "code",
      "source": [
        "# Q4: Comparison Operators\n",
        "# Take a = 15 and b = 12. Check and print the results of the following comparisons:\n",
        "# ● a > b\n",
        "# ● a < b\n",
        "# ● a == b\n",
        "# ● a != b\n",
        "# ● a >= b\n",
        "# ● a <= b\n",
        "\n",
        "a = 15\n",
        "b = 12\n",
        "\n",
        "print(a > b)\n",
        "print(a < b)\n",
        "print(a == b)\n",
        "print(a != b)\n",
        "print(a >= b)\n",
        "print(a <= b)\n"
      ],
      "metadata": {
        "colab": {
          "base_uri": "https://localhost:8080/"
        },
        "id": "aoYBYubsRI7h",
        "outputId": "caf31335-bc60-4029-bd94-1e6c40cff041"
      },
      "execution_count": 4,
      "outputs": [
        {
          "output_type": "stream",
          "name": "stdout",
          "text": [
            "True\n",
            "False\n",
            "False\n",
            "True\n",
            "True\n",
            "False\n"
          ]
        }
      ]
    },
    {
      "cell_type": "code",
      "source": [
        "# Q5: Logical Operators\n",
        "# Let p = True and q = False. Check and print the result of:\n",
        "# ● p and q\n",
        "# ● p or q\n",
        "# ● not p\n",
        "# ● not q\n",
        "\n",
        "p = True\n",
        "q = False\n",
        "\n",
        "print(p and q)\n",
        "print(p or q)\n",
        "print(not p)\n",
        "print(not q)\n"
      ],
      "metadata": {
        "colab": {
          "base_uri": "https://localhost:8080/"
        },
        "id": "qS_gT6soRVY9",
        "outputId": "eec54f20-4398-4543-f1df-1d757524a073"
      },
      "execution_count": 5,
      "outputs": [
        {
          "output_type": "stream",
          "name": "stdout",
          "text": [
            "False\n",
            "True\n",
            "False\n",
            "True\n"
          ]
        }
      ]
    },
    {
      "cell_type": "code",
      "source": [
        "# Q6: Real-Life Example\n",
        "# The price of one notebook is 80 rupees.\n",
        "# ● If you buy 7 notebooks, calculate the total price.\n",
        "# ● If you have 600 rupees, check (using comparison operator) whether your money is enough to buy them or not.\n",
        "# ● Print the result in a clear message.\n",
        "\n",
        "notebook = 80\n",
        "total_price = notebook * 7\n",
        "money = 600\n",
        "\n",
        "if money >= total_price:\n",
        "    print(\"You have enough money to buy the notebooks.\")\n",
        "else:\n",
        "    print(\"You do not have enough money to buy the notebooks.\")\n"
      ],
      "metadata": {
        "colab": {
          "base_uri": "https://localhost:8080/"
        },
        "id": "DJvOIOnhRiwR",
        "outputId": "9ff83a06-4372-4fa3-800f-637911371df5"
      },
      "execution_count": 6,
      "outputs": [
        {
          "output_type": "stream",
          "name": "stdout",
          "text": [
            "You have enough money to buy the notebooks.\n"
          ]
        }
      ]
    },
    {
      "cell_type": "code",
      "source": [
        "# Q7: Bonus (Optional)\n",
        "# Take two numbers as input from the user.\n",
        "# ● Print their sum.\n",
        "# ● Print whether the first number is greater than the second number or not.\n",
        "\n",
        "num1 = int(input(\"Enter the first number: \"))\n",
        "num2 = int(input(\"Enter the second number: \"))\n",
        "\n",
        "print(\"Sum:\", num1 + num2)\n",
        "print(\"Is the first number greater than the second?\", num1 > num2)\n"
      ],
      "metadata": {
        "colab": {
          "base_uri": "https://localhost:8080/"
        },
        "id": "ZYQ1Sg_oRxtg",
        "outputId": "97fd6b32-c785-474e-b18b-279e9c258106"
      },
      "execution_count": 7,
      "outputs": [
        {
          "output_type": "stream",
          "name": "stdout",
          "text": [
            "Enter the first number: 200\n",
            "Enter the second number: 400\n",
            "Sum: 600\n",
            "Is the first number greater than the second? False\n"
          ]
        }
      ]
    }
  ]
}